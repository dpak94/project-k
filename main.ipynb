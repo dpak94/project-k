{
 "cells": [
  {
   "cell_type": "markdown",
   "metadata": {},
   "source": [
    "# Project - K"
   ]
  },
  {
   "cell_type": "code",
   "execution_count": 2,
   "metadata": {},
   "outputs": [],
   "source": [
    "import folium as fl\n",
    "import pandas as pd"
   ]
  },
  {
   "cell_type": "code",
   "execution_count": 3,
   "metadata": {},
   "outputs": [],
   "source": [
    "# Pandas Dataset Import\n",
    "df = pd.read_csv(\"city-coords.csv\", nrows = 20) # chunksize can also be used instead of nrows."
   ]
  },
  {
   "cell_type": "code",
   "execution_count": 4,
   "metadata": {},
   "outputs": [
    {
     "data": {
      "text/plain": [
       "Index(['city', 'lat', 'lng', 'country', 'iso2', 'admin_name', 'capital',\n",
       "       'population', 'population_proper'],\n",
       "      dtype='object')"
      ]
     },
     "execution_count": 4,
     "metadata": {},
     "output_type": "execute_result"
    }
   ],
   "source": [
    "df.columns"
   ]
  },
  {
   "cell_type": "code",
   "execution_count": 5,
   "metadata": {},
   "outputs": [],
   "source": [
    "# Defining lists for Latitude and Longitude to use loops foor multiple markers\n",
    "lat_city = list(df[\"lat\"]) # Latitude List\n",
    "long_city = list(df[\"lng\"]) # Longitude List\n",
    "city_name = list(df[\"city\"])\n",
    "city_pop = list(df[\"population\"])"
   ]
  },
  {
   "cell_type": "code",
   "execution_count": 6,
   "metadata": {},
   "outputs": [],
   "source": [
    "map = fl.Map(location = [20.5937, 78.9629], zoom_start = 5, tiles = \"Stamen Terrain\")\n",
    "fg = fl.FeatureGroup(name = \"IndiaMap\")"
   ]
  },
  {
   "cell_type": "code",
   "execution_count": 23,
   "metadata": {},
   "outputs": [],
   "source": [
    "# Color Function to generate different color markers based on the population of each city\n",
    "def colMarker(pop):\n",
    "    if pop < 500000:\n",
    "        return \"yellow\"\n",
    "    elif pop > 500000 and pop <= 1000000:\n",
    "        return \"orange\"\n",
    "    elif pop > 1000000 and pop <= 10000000:\n",
    "        return \"red\"\n",
    "    else:\n",
    "        return \"black\""
   ]
  },
  {
   "cell_type": "code",
   "execution_count": 33,
   "metadata": {},
   "outputs": [],
   "source": [
    "for lat, lon, c_name, pop in zip(lat_city, long_city, city_name, city_pop):\n",
    "    fg.add_child(fl.CircleMarker(location = [lat, lon], radius = 6, popup = c_name + \"\\n\" + str(pop), fill_color = colMarker(pop), color = 'grey', fill_opacity = 0.7))"
   ]
  },
  {
   "cell_type": "code",
   "execution_count": 36,
   "metadata": {},
   "outputs": [
    {
     "ename": "ValueError",
     "evalue": "Cannot render objects with any missing geometries: <_io.TextIOWrapper name='world.json' mode='r' encoding='utf-8-sig'>",
     "output_type": "error",
     "traceback": [
      "\u001b[1;31m---------------------------------------------------------------------------\u001b[0m",
      "\u001b[1;31mValueError\u001b[0m                                Traceback (most recent call last)",
      "Cell \u001b[1;32mIn[36], line 2\u001b[0m\n\u001b[0;32m      1\u001b[0m \u001b[39m# Creating geopolitical borders using GeoJson function using data from a JSON file. \u001b[39;00m\n\u001b[1;32m----> 2\u001b[0m fg\u001b[39m.\u001b[39madd_child(fl\u001b[39m.\u001b[39mGeoJson(data  \u001b[39m=\u001b[39m \u001b[39mopen\u001b[39m(\u001b[39m\"\u001b[39m\u001b[39mworld.json\u001b[39m\u001b[39m\"\u001b[39m, \u001b[39m\"\u001b[39m\u001b[39mr\u001b[39m\u001b[39m\"\u001b[39m, encoding \u001b[39m=\u001b[39m \u001b[39m\"\u001b[39m\u001b[39mutf-8-sig\u001b[39m\u001b[39m\"\u001b[39m), style_function \u001b[39m=\u001b[39m \u001b[39mlambda\u001b[39;00m x : {\u001b[39m'\u001b[39m\u001b[39mfiltercolor\u001b[39m\u001b[39m'\u001b[39m : \u001b[39m'\u001b[39m\u001b[39mred\u001b[39m\u001b[39m'\u001b[39m \u001b[39mif\u001b[39;00m x[\u001b[39m'\u001b[39m\u001b[39mproperties\u001b[39m\u001b[39m'\u001b[39m][\u001b[39m'\u001b[39m\u001b[39mPOP2005\u001b[39m\u001b[39m'\u001b[39m] \u001b[39m<\u001b[39m \u001b[39m10000000\u001b[39m \n\u001b[0;32m      3\u001b[0m \u001b[39melse\u001b[39;00m \u001b[39m'\u001b[39m\u001b[39morange\u001b[39m\u001b[39m'\u001b[39m}))\n",
      "File \u001b[1;32mc:\\Users\\ranger\\miniconda3\\envs\\argo\\Lib\\site-packages\\folium\\features.py:643\u001b[0m, in \u001b[0;36mGeoJson.__init__\u001b[1;34m(self, data, style_function, highlight_function, name, overlay, control, show, smooth_factor, tooltip, embed, popup, zoom_on_click, marker)\u001b[0m\n\u001b[0;32m    638\u001b[0m         \u001b[39mraise\u001b[39;00m \u001b[39mTypeError\u001b[39;00m(\n\u001b[0;32m    639\u001b[0m             \u001b[39m\"\u001b[39m\u001b[39mOnly Marker, Circle, and CircleMarker are supported as GeoJson marker types.\u001b[39m\u001b[39m\"\u001b[39m\n\u001b[0;32m    640\u001b[0m         )\n\u001b[0;32m    641\u001b[0m \u001b[39mself\u001b[39m\u001b[39m.\u001b[39mmarker \u001b[39m=\u001b[39m marker\n\u001b[1;32m--> 643\u001b[0m \u001b[39mself\u001b[39m\u001b[39m.\u001b[39mdata \u001b[39m=\u001b[39m \u001b[39mself\u001b[39m\u001b[39m.\u001b[39mprocess_data(data)\n\u001b[0;32m    645\u001b[0m \u001b[39mif\u001b[39;00m \u001b[39mself\u001b[39m\u001b[39m.\u001b[39mstyle \u001b[39mor\u001b[39;00m \u001b[39mself\u001b[39m\u001b[39m.\u001b[39mhighlight:\n\u001b[0;32m    646\u001b[0m     \u001b[39mself\u001b[39m\u001b[39m.\u001b[39mconvert_to_feature_collection()\n",
      "File \u001b[1;32mc:\\Users\\ranger\\miniconda3\\envs\\argo\\Lib\\site-packages\\folium\\features.py:688\u001b[0m, in \u001b[0;36mGeoJson.process_data\u001b[1;34m(self, data)\u001b[0m\n\u001b[0;32m    686\u001b[0m     \u001b[39mreturn\u001b[39;00m json\u001b[39m.\u001b[39mloads(json\u001b[39m.\u001b[39mdumps(data\u001b[39m.\u001b[39m__geo_interface__))\n\u001b[0;32m    687\u001b[0m \u001b[39melse\u001b[39;00m:\n\u001b[1;32m--> 688\u001b[0m     \u001b[39mraise\u001b[39;00m \u001b[39mValueError\u001b[39;00m(\n\u001b[0;32m    689\u001b[0m         \u001b[39m\"\u001b[39m\u001b[39mCannot render objects with any missing geometries\u001b[39m\u001b[39m\"\u001b[39m\n\u001b[0;32m    690\u001b[0m         \u001b[39m\"\u001b[39m\u001b[39m: \u001b[39m\u001b[39m{!r}\u001b[39;00m\u001b[39m\"\u001b[39m\u001b[39m.\u001b[39mformat(data)\n\u001b[0;32m    691\u001b[0m     )\n",
      "\u001b[1;31mValueError\u001b[0m: Cannot render objects with any missing geometries: <_io.TextIOWrapper name='world.json' mode='r' encoding='utf-8-sig'>"
     ]
    }
   ],
   "source": [
    "# Creating geopolitical borders using GeoJson function using data from a JSON file. \n",
    "fg.add_child(fl.GeoJson(data  = open(\"world.json\", \"r\", encoding = \"utf-8-sig\"), style_function = lambda x : {'filtercolor' : 'red' if x['properties']['POP2005'] < 10000000 \n",
    "else 'orange'}))"
   ]
  },
  {
   "cell_type": "code",
   "execution_count": 29,
   "metadata": {},
   "outputs": [],
   "source": [
    "map.add_child(fg)\n",
    "map.save(\"popMap.html\")"
   ]
  },
  {
   "cell_type": "code",
   "execution_count": 30,
   "metadata": {},
   "outputs": [
    {
     "name": "stdout",
     "output_type": "stream",
     "text": [
      "Help on class CircleMarker in module folium.vector_layers:\n",
      "\n",
      "class CircleMarker(folium.map.Marker)\n",
      " |  CircleMarker(location=None, radius=10, popup=None, tooltip=None, **kwargs)\n",
      " |  \n",
      " |  A circle of a fixed size with radius specified in pixels.\n",
      " |  \n",
      " |  See :func:`folium.vector_layers.path_options` for the `Path` options.\n",
      " |  \n",
      " |  Parameters\n",
      " |  ----------\n",
      " |  location: tuple[float, float]\n",
      " |      Latitude and Longitude pair (Northing, Easting)\n",
      " |  popup: string or folium.Popup, default None\n",
      " |      Input text or visualization for object displayed when clicking.\n",
      " |  tooltip: str or folium.Tooltip, default None\n",
      " |      Display a text when hovering over the object.\n",
      " |  radius: float, default 10\n",
      " |      Radius of the circle marker, in pixels.\n",
      " |  **kwargs\n",
      " |      Other valid (possibly inherited) options. See:\n",
      " |      https://leafletjs.com/reference.html#circlemarker\n",
      " |  \n",
      " |  Method resolution order:\n",
      " |      CircleMarker\n",
      " |      folium.map.Marker\n",
      " |      branca.element.MacroElement\n",
      " |      branca.element.Element\n",
      " |      builtins.object\n",
      " |  \n",
      " |  Methods defined here:\n",
      " |  \n",
      " |  __init__(self, location=None, radius=10, popup=None, tooltip=None, **kwargs)\n",
      " |      Initialize self.  See help(type(self)) for accurate signature.\n",
      " |  \n",
      " |  ----------------------------------------------------------------------\n",
      " |  Methods inherited from folium.map.Marker:\n",
      " |  \n",
      " |  render(self)\n",
      " |      Renders the HTML representation of the element.\n",
      " |  \n",
      " |  ----------------------------------------------------------------------\n",
      " |  Methods inherited from branca.element.Element:\n",
      " |  \n",
      " |  __getstate__(self)\n",
      " |      Modify object state when pickling the object.\n",
      " |      jinja2 Environment cannot be pickled, so set\n",
      " |      the ._env attribute to None. This will be added back\n",
      " |      when unpickling (see __setstate__)\n",
      " |  \n",
      " |  __setstate__(self, state: dict)\n",
      " |      Re-add ._env attribute when unpickling\n",
      " |  \n",
      " |  add_child(self, child, name=None, index=None)\n",
      " |      Add a child.\n",
      " |  \n",
      " |  add_children(self, child, name=None, index=None)\n",
      " |      Add a child.\n",
      " |  \n",
      " |  add_to(self, parent, name=None, index=None)\n",
      " |      Add element to a parent.\n",
      " |  \n",
      " |  get_bounds(self)\n",
      " |      Computes the bounds of the object and all it's children\n",
      " |      in the form [[lat_min, lon_min], [lat_max, lon_max]].\n",
      " |  \n",
      " |  get_name(self)\n",
      " |      Returns a string representation of the object.\n",
      " |      This string has to be unique and to be a python and\n",
      " |      javascript-compatible\n",
      " |      variable name.\n",
      " |  \n",
      " |  get_root(self)\n",
      " |      Returns the root of the elements tree.\n",
      " |  \n",
      " |  save(self, outfile, close_file=True, **kwargs)\n",
      " |      Saves an Element into a file.\n",
      " |      \n",
      " |      Parameters\n",
      " |      ----------\n",
      " |      outfile : str or file object\n",
      " |          The file (or filename) where you want to output the html.\n",
      " |      close_file : bool, default True\n",
      " |          Whether the file has to be closed after write.\n",
      " |  \n",
      " |  to_dict(self, depth=-1, ordered=True, **kwargs)\n",
      " |      Returns a dict representation of the object.\n",
      " |  \n",
      " |  to_json(self, depth=-1, **kwargs)\n",
      " |      Returns a JSON representation of the object.\n",
      " |  \n",
      " |  ----------------------------------------------------------------------\n",
      " |  Data descriptors inherited from branca.element.Element:\n",
      " |  \n",
      " |  __dict__\n",
      " |      dictionary for instance variables (if defined)\n",
      " |  \n",
      " |  __weakref__\n",
      " |      list of weak references to the object (if defined)\n",
      "\n"
     ]
    }
   ],
   "source": [
    "help(fl.CircleMarker)"
   ]
  }
 ],
 "metadata": {
  "kernelspec": {
   "display_name": "argo",
   "language": "python",
   "name": "python3"
  },
  "language_info": {
   "codemirror_mode": {
    "name": "ipython",
    "version": 3
   },
   "file_extension": ".py",
   "mimetype": "text/x-python",
   "name": "python",
   "nbconvert_exporter": "python",
   "pygments_lexer": "ipython3",
   "version": "3.11.2"
  },
  "orig_nbformat": 4
 },
 "nbformat": 4,
 "nbformat_minor": 2
}
