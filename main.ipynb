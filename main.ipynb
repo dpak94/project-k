{
 "cells": [
  {
   "cell_type": "markdown",
   "metadata": {},
   "source": [
    "# Project - K"
   ]
  },
  {
   "cell_type": "code",
   "execution_count": 2,
   "metadata": {},
   "outputs": [],
   "source": [
    "import folium as fl\n",
    "import pandas as pd"
   ]
  },
  {
   "cell_type": "code",
   "execution_count": 3,
   "metadata": {},
   "outputs": [],
   "source": [
    "# Pandas Dataset Import\n",
    "df = pd.read_csv(\"city-coords.csv\", nrows = 20) # chunksize can also be used instead of nrows."
   ]
  },
  {
   "cell_type": "code",
   "execution_count": 4,
   "metadata": {},
   "outputs": [
    {
     "data": {
      "text/plain": [
       "Index(['city', 'lat', 'lng', 'country', 'iso2', 'admin_name', 'capital',\n",
       "       'population', 'population_proper'],\n",
       "      dtype='object')"
      ]
     },
     "execution_count": 4,
     "metadata": {},
     "output_type": "execute_result"
    }
   ],
   "source": [
    "df.columns"
   ]
  },
  {
   "cell_type": "code",
   "execution_count": 5,
   "metadata": {},
   "outputs": [],
   "source": [
    "# Defining lists for Latitude and Longitude to use loops foor multiple markers\n",
    "lat_city = list(df[\"lat\"]) # Latitude List\n",
    "long_city = list(df[\"lng\"]) # Longitude List\n",
    "city_name = list(df[\"city\"])\n",
    "city_pop = list(df[\"population\"])"
   ]
  },
  {
   "cell_type": "code",
   "execution_count": 6,
   "metadata": {},
   "outputs": [],
   "source": [
    "map = fl.Map(location = [20.5937, 78.9629], zoom_start = 5, tiles = \"Stamen Terrain\")\n",
    "fg = fl.FeatureGroup(name = \"IndiaMap\")"
   ]
  },
  {
   "cell_type": "code",
   "execution_count": 7,
   "metadata": {},
   "outputs": [],
   "source": [
    "# Color Function to generate different color markers based on the population of each city\n",
    "def colMarker(pop):\n",
    "    if pop < 500000:\n",
    "        return \"yellow\"\n",
    "    elif pop > 500000 and pop <= 1000000:\n",
    "        return \"orange\"\n",
    "    elif pop > 1000000 and pop <= 10000000:\n",
    "        return \"red\"\n",
    "    else:\n",
    "        return \"black\""
   ]
  },
  {
   "cell_type": "code",
   "execution_count": 18,
   "metadata": {},
   "outputs": [],
   "source": [
    "for lat, lon, c_name, pop in zip(lat_city, long_city, city_name, city_pop):\n",
    "    fg.add_child(fl.CircleMarker(location = [lat, lon], radius = 6, popup = c_name + \"\\n\" + str(pop), fill_color = colMarker(pop), color = 'grey', fill_opacity = 0.7))"
   ]
  },
  {
   "cell_type": "code",
   "execution_count": 21,
   "metadata": {},
   "outputs": [],
   "source": [
    "map.add_child(fg)\n",
    "map.save(\"popMap.html\")"
   ]
  },
  {
   "cell_type": "code",
   "execution_count": 20,
   "metadata": {},
   "outputs": [
    {
     "name": "stdout",
     "output_type": "stream",
     "text": [
      "Help on class CircleMarker in module folium.vector_layers:\n",
      "\n",
      "class CircleMarker(folium.map.Marker)\n",
      " |  CircleMarker(location=None, radius=10, popup=None, tooltip=None, **kwargs)\n",
      " |  \n",
      " |  A circle of a fixed size with radius specified in pixels.\n",
      " |  \n",
      " |  See :func:`folium.vector_layers.path_options` for the `Path` options.\n",
      " |  \n",
      " |  Parameters\n",
      " |  ----------\n",
      " |  location: tuple[float, float]\n",
      " |      Latitude and Longitude pair (Northing, Easting)\n",
      " |  popup: string or folium.Popup, default None\n",
      " |      Input text or visualization for object displayed when clicking.\n",
      " |  tooltip: str or folium.Tooltip, default None\n",
      " |      Display a text when hovering over the object.\n",
      " |  radius: float, default 10\n",
      " |      Radius of the circle marker, in pixels.\n",
      " |  **kwargs\n",
      " |      Other valid (possibly inherited) options. See:\n",
      " |      https://leafletjs.com/reference.html#circlemarker\n",
      " |  \n",
      " |  Method resolution order:\n",
      " |      CircleMarker\n",
      " |      folium.map.Marker\n",
      " |      branca.element.MacroElement\n",
      " |      branca.element.Element\n",
      " |      builtins.object\n",
      " |  \n",
      " |  Methods defined here:\n",
      " |  \n",
      " |  __init__(self, location=None, radius=10, popup=None, tooltip=None, **kwargs)\n",
      " |      Initialize self.  See help(type(self)) for accurate signature.\n",
      " |  \n",
      " |  ----------------------------------------------------------------------\n",
      " |  Methods inherited from folium.map.Marker:\n",
      " |  \n",
      " |  render(self)\n",
      " |      Renders the HTML representation of the element.\n",
      " |  \n",
      " |  ----------------------------------------------------------------------\n",
      " |  Methods inherited from branca.element.Element:\n",
      " |  \n",
      " |  __getstate__(self)\n",
      " |      Modify object state when pickling the object.\n",
      " |      jinja2 Environment cannot be pickled, so set\n",
      " |      the ._env attribute to None. This will be added back\n",
      " |      when unpickling (see __setstate__)\n",
      " |  \n",
      " |  __setstate__(self, state: dict)\n",
      " |      Re-add ._env attribute when unpickling\n",
      " |  \n",
      " |  add_child(self, child, name=None, index=None)\n",
      " |      Add a child.\n",
      " |  \n",
      " |  add_children(self, child, name=None, index=None)\n",
      " |      Add a child.\n",
      " |  \n",
      " |  add_to(self, parent, name=None, index=None)\n",
      " |      Add element to a parent.\n",
      " |  \n",
      " |  get_bounds(self)\n",
      " |      Computes the bounds of the object and all it's children\n",
      " |      in the form [[lat_min, lon_min], [lat_max, lon_max]].\n",
      " |  \n",
      " |  get_name(self)\n",
      " |      Returns a string representation of the object.\n",
      " |      This string has to be unique and to be a python and\n",
      " |      javascript-compatible\n",
      " |      variable name.\n",
      " |  \n",
      " |  get_root(self)\n",
      " |      Returns the root of the elements tree.\n",
      " |  \n",
      " |  save(self, outfile, close_file=True, **kwargs)\n",
      " |      Saves an Element into a file.\n",
      " |      \n",
      " |      Parameters\n",
      " |      ----------\n",
      " |      outfile : str or file object\n",
      " |          The file (or filename) where you want to output the html.\n",
      " |      close_file : bool, default True\n",
      " |          Whether the file has to be closed after write.\n",
      " |  \n",
      " |  to_dict(self, depth=-1, ordered=True, **kwargs)\n",
      " |      Returns a dict representation of the object.\n",
      " |  \n",
      " |  to_json(self, depth=-1, **kwargs)\n",
      " |      Returns a JSON representation of the object.\n",
      " |  \n",
      " |  ----------------------------------------------------------------------\n",
      " |  Data descriptors inherited from branca.element.Element:\n",
      " |  \n",
      " |  __dict__\n",
      " |      dictionary for instance variables (if defined)\n",
      " |  \n",
      " |  __weakref__\n",
      " |      list of weak references to the object (if defined)\n",
      "\n"
     ]
    }
   ],
   "source": [
    "help(fl.CircleMarker)"
   ]
  }
 ],
 "metadata": {
  "kernelspec": {
   "display_name": "argo",
   "language": "python",
   "name": "python3"
  },
  "language_info": {
   "codemirror_mode": {
    "name": "ipython",
    "version": 3
   },
   "file_extension": ".py",
   "mimetype": "text/x-python",
   "name": "python",
   "nbconvert_exporter": "python",
   "pygments_lexer": "ipython3",
   "version": "3.11.2"
  },
  "orig_nbformat": 4
 },
 "nbformat": 4,
 "nbformat_minor": 2
}
